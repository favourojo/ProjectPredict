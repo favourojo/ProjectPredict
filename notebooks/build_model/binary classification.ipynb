{
 "cells": [
  {
   "cell_type": "code",
   "execution_count": 11,
   "id": "7ac94724-2c73-41cf-b5f2-42145b62e217",
   "metadata": {},
   "outputs": [
    {
     "name": "stdout",
     "output_type": "stream",
     "text": [
      "not_fully_funded\n",
      "0    430683\n",
      "1    188643\n",
      "Name: count, dtype: int64\n",
      "                          projectid is_exciting  not_fully_funded\n",
      "0  ffffc4f85b60efc5b52347df489d0238           f                 1\n",
      "1  ffffac55ee02a49d1abc87ba6fc61135           f                 0\n",
      "2  ffff97ed93720407d70a2787475932b0           f                 0\n",
      "3  ffff418bb42fad24347527ad96100f81           f                 1\n",
      "4  ffff2d9c769c8fb5335e949c615425eb           t                 0\n"
     ]
    }
   ],
   "source": [
    "import pandas as pd\n",
    "\n",
    "# Load outcomes.csv\n",
    "outcomes = pd.read_csv('outcomes.csv')\n",
    "\n",
    "# Convert 't' (True) → 1, 'f' (False) → 0\n",
    "outcomes['fully_funded'] = outcomes['fully_funded'].map({'t': 1, 'f': 0})\n",
    "outcomes['not_fully_funded'] = outcomes['fully_funded'].apply(lambda x: 0 if x == 1 else 1)\n",
    "\n",
    "# Confirm the conversion\n",
    "print(outcomes['not_fully_funded'].value_counts())\n",
    "print(outcomes[['projectid','is_exciting', 'not_fully_funded']].head())"
   ]
  },
  {
   "cell_type": "code",
   "execution_count": 5,
   "id": "37f57a80-1505-40fa-9a62-ef679e8caaec",
   "metadata": {},
   "outputs": [],
   "source": [
    "\n"
   ]
  },
  {
   "cell_type": "code",
   "execution_count": null,
   "id": "64a0ab0b-3910-442b-a6ca-9547b812030c",
   "metadata": {},
   "outputs": [],
   "source": []
  }
 ],
 "metadata": {
  "kernelspec": {
   "display_name": "Python 3 (ipykernel)",
   "language": "python",
   "name": "python3"
  },
  "language_info": {
   "codemirror_mode": {
    "name": "ipython",
    "version": 3
   },
   "file_extension": ".py",
   "mimetype": "text/x-python",
   "name": "python",
   "nbconvert_exporter": "python",
   "pygments_lexer": "ipython3",
   "version": "3.12.4"
  }
 },
 "nbformat": 4,
 "nbformat_minor": 5
}
