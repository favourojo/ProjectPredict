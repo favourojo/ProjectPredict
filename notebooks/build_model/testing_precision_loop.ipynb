{
 "cells": [
  {
   "cell_type": "code",
   "execution_count": 1,
   "id": "e7d167c2-8b0f-418e-bd1a-59d44234876a",
   "metadata": {},
   "outputs": [
    {
     "name": "stdout",
     "output_type": "stream",
     "text": [
      "not_fully_funded\n",
      "0    430683\n",
      "1    188643\n",
      "Name: count, dtype: int64\n",
      "                          projectid is_exciting  not_fully_funded\n",
      "0  ffffc4f85b60efc5b52347df489d0238           f                 1\n",
      "1  ffffac55ee02a49d1abc87ba6fc61135           f                 0\n",
      "2  ffff97ed93720407d70a2787475932b0           f                 0\n",
      "3  ffff418bb42fad24347527ad96100f81           f                 1\n",
      "4  ffff2d9c769c8fb5335e949c615425eb           t                 0\n"
     ]
    }
   ],
   "source": [
    "import pandas as pd\n",
    "from sklearn.linear_model import LogisticRegression\n",
    "from sklearn.ensemble import RandomForestClassifier\n",
    "from sklearn.model_selection import GridSearchCV, train_test_split\n",
    "from sklearn.metrics import precision_score\n",
    "\n",
    "# Load outcomes.csv\n",
    "outcomes = pd.read_csv('outcomes.csv')\n",
    "projects = pd.read_csv('projects.csv')\n",
    "\n",
    "# Convert 't' (True) → 1, 'f' (False) → 0\n",
    "outcomes['fully_funded'] = outcomes['fully_funded'].map({'t': 1, 'f': 0})\n",
    "outcomes['not_fully_funded'] = outcomes['fully_funded'].apply(lambda x: 0 if x == 1 else 1)\n",
    "projects['date_posted'] = pd.to_datetime(projects['date_posted'])\n",
    "\n",
    "# Confirm the conversion\n",
    "print(outcomes['not_fully_funded'].value_counts())\n",
    "print(outcomes[['projectid','is_exciting', 'not_fully_funded']].head())\n",
    "\n",
    "# Merge datasets\n",
    "data = pd.merge(projects, outcomes[['projectid', 'not_fully_funded']], on='projectid')\n",
    "\n",
    "# sort by score desc\n",
    "# rank / if rank is 10% rank is top 10% or 0\n",
    "# score to rank to prediction \n",
    "\n",
    "# Function to train and evaluate models\n",
    "def train_evaluate_model(model, X_train, X_test, y_train, y_test):\n",
    "    model.fit(X_train, y_train)\n",
    "    y_pred = model.predict(X_test)\n",
    "    precision = precision_score(y_test, y_pred)\n",
    "    return precision"
   ]
  },
  {
   "cell_type": "code",
   "execution_count": 2,
   "id": "cee71e3c-216f-4de8-993c-725dd1e47ed8",
   "metadata": {},
   "outputs": [
    {
     "name": "stdout",
     "output_type": "stream",
     "text": [
      "Features: ['primary_focus_subject'] -> Precision: 0.3250726118760757\n",
      "Features: ['primary_focus_subject', 'school_state'] -> Precision: 0.3678955181676799\n",
      "Features: ['primary_focus_subject', 'school_state', 'resource_type'] -> Precision: 0.3791433649095919\n",
      "Features: ['primary_focus_subject', 'school_state', 'resource_type', 'poverty_level'] -> Precision: 0.38867553965665386\n",
      "\n",
      "Feature Precision Results:\n",
      "Features: ['primary_focus_subject'] -> Precision: 0.3250726118760757\n",
      "Features: ['primary_focus_subject', 'school_state'] -> Precision: 0.3678955181676799\n",
      "Features: ['primary_focus_subject', 'school_state', 'resource_type'] -> Precision: 0.3791433649095919\n",
      "Features: ['primary_focus_subject', 'school_state', 'resource_type', 'poverty_level'] -> Precision: 0.38867553965665386\n"
     ]
    }
   ],
   "source": [
    "# Load data and preprocess (as in your previous scripts)\n",
    "features_list = ['primary_focus_subject', 'school_state', 'resource_type', 'poverty_level']\n",
    "\n",
    "precision_scores = []\n",
    "for i in range(1, len(features_list) + 1):\n",
    "    features = features_list[:i]\n",
    "    X = pd.get_dummies(data[features], drop_first=True)\n",
    "    y = data['not_fully_funded']\n",
    "    X_train, X_test, y_train, y_test = train_test_split(X, y, test_size=0.2, random_state=42)\n",
    "\n",
    "# Use Logistic Regression for small feature sets\n",
    "    if i <= 2:\n",
    "        model = LogisticRegression(class_weight='balanced', max_iter=1000, random_state=42)\n",
    "    else:\n",
    "        # Use Random Forest for larger feature sets\n",
    "        model = RandomForestClassifier(n_estimators=100, class_weight='balanced', random_state=42)\n",
    "    \n",
    "    # Evaluate model\n",
    "    precision = train_evaluate_model(model, X_train, X_test, y_train, y_test)\n",
    "    precision_scores.append((features, precision))\n",
    "    print(f\"Features: {features} -> Precision: {precision}\")\n",
    "\n",
    "# Output results\n",
    "for features, precision in precision_scores:\n",
    "    print(f\"Features: {features} -> Precision: {precision}\")"
   ]
  }
 ],
 "metadata": {
  "kernelspec": {
   "display_name": "Python 3 (ipykernel)",
   "language": "python",
   "name": "python3"
  },
  "language_info": {
   "codemirror_mode": {
    "name": "ipython",
    "version": 3
   },
   "file_extension": ".py",
   "mimetype": "text/x-python",
   "name": "python",
   "nbconvert_exporter": "python",
   "pygments_lexer": "ipython3",
   "version": "3.12.8"
  }
 },
 "nbformat": 4,
 "nbformat_minor": 5
}
