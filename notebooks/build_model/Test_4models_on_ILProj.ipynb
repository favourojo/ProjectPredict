{
  "nbformat": 4,
  "nbformat_minor": 0,
  "metadata": {
    "colab": {
      "provenance": []
    },
    "kernelspec": {
      "name": "python3",
      "display_name": "Python 3"
    },
    "language_info": {
      "name": "python"
    }
  },
  "cells": [
    {
      "cell_type": "code",
      "source": [
        "import pandas as pd\n",
        "import numpy as np\n",
        "from sklearn.model_selection import train_test_split, GridSearchCV, StratifiedKFold, cross_validate\n",
        "from sklearn.ensemble import RandomForestClassifier\n",
        "from sklearn.neighbors import KNeighborsClassifier\n",
        "from sklearn.tree import DecisionTreeClassifier\n",
        "from sklearn.linear_model import LogisticRegression\n",
        "from sklearn.preprocessing import StandardScaler, OneHotEncoder\n",
        "from sklearn.impute import SimpleImputer\n",
        "from sklearn.compose import ColumnTransformer\n",
        "from sklearn.pipeline import Pipeline\n",
        "from sklearn.metrics import classification_report, roc_auc_score, average_precision_score, precision_score\n"
      ],
      "metadata": {
        "id": "XZaafpQhScv5"
      },
      "execution_count": 2,
      "outputs": []
    },
    {
      "cell_type": "code",
      "source": [
        "# Load and preprocess data\n",
        "outcomes = pd.read_csv('outcomes.csv')\n",
        "projects = pd.read_csv('projects.csv')\n",
        "\n",
        "outcomes['fully_funded'] = outcomes['fully_funded'].map({'t': 1, 'f': 0})\n",
        "outcomes['not_fully_funded'] = 1 - outcomes['fully_funded']\n",
        "projects['date_posted'] = pd.to_datetime(projects['date_posted'])\n",
        "data = pd.merge(projects, outcomes[['projectid', 'not_fully_funded']], on='projectid')\n",
        "\n",
        "data = data[data['date_posted'] >= '2010-01-01']  # Only use data after 2010\n",
        "data_chicago = data[data['school_state'] == 'IL']  # Only look at the state IL\n",
        "data_chicago_dropped = data_chicago.drop(columns=[\n",
        "    'secondary_focus_subject', 'secondary_focus_area', 'school_metro',\n",
        "    'school_ncesid', 'school_latitude', 'school_longitude'\n",
        "])\n",
        "\n",
        "# Create feature list and split data\n",
        "features = [\n",
        "    'primary_focus_subject', 'resource_type', 'school_nlns', 'school_charter',\n",
        "    'school_county', 'school_district', 'teacher_prefix', 'poverty_level',\n",
        "    'grade_level', 'fulfillment_labor_materials',\n",
        "    'total_price_excluding_optional_support', 'total_price_including_optional_support'\n",
        "]\n",
        "\n",
        "X = data_chicago_dropped[features]\n",
        "y = data_chicago_dropped['not_fully_funded']\n",
        "X_train, X_test, y_train, y_test = train_test_split(X, y, test_size=0.2, random_state=42)\n",
        "\n",
        "# Define preprocessing\n",
        "numeric_features = [\n",
        "    'fulfillment_labor_materials',\n",
        "    'total_price_excluding_optional_support',\n",
        "    'total_price_including_optional_support'\n",
        "]\n",
        "\n",
        "categorical_features = [\n",
        "    'primary_focus_subject', 'resource_type', 'school_nlns', 'school_charter',\n",
        "    'school_county', 'school_district', 'teacher_prefix', 'poverty_level', 'grade_level'\n",
        "]\n",
        "\n",
        "numeric_transformer = Pipeline(steps=[\n",
        "    ('imputer', SimpleImputer(strategy='median')),\n",
        "    ('scaler', StandardScaler())\n",
        "])\n",
        "\n",
        "categorical_transformer = Pipeline(steps=[\n",
        "    ('imputer', SimpleImputer(strategy='most_frequent')),\n",
        "    ('onehot', OneHotEncoder(handle_unknown='ignore'))\n",
        "])\n",
        "\n",
        "preprocessor = ColumnTransformer(\n",
        "    transformers=[\n",
        "        ('num', numeric_transformer, numeric_features),\n",
        "        ('cat', categorical_transformer, categorical_features)\n",
        "])\n"
      ],
      "metadata": {
        "id": "0tGQbXctKmOw"
      },
      "execution_count": 5,
      "outputs": []
    },
    {
      "cell_type": "markdown",
      "source": [
        "=============================================================================\n",
        "# STEP 1: BASELINE PERFORMANCE WITH DEFAULT HYPERPARAMETERS (WITH TOP 10% PRECISION)\n",
        "============================================================================="
      ],
      "metadata": {
        "id": "YJzP2pqtWFSr"
      }
    },
    {
      "cell_type": "code",
      "source": [
        "from sklearn.model_selection import cross_val_predict\n",
        "from sklearn.base import clone"
      ],
      "metadata": {
        "id": "9315wIdUWL-y"
      },
      "execution_count": 15,
      "outputs": []
    },
    {
      "cell_type": "code",
      "source": [
        "# Define models without parameter grids (defaults only)\n",
        "baseline_models = [\n",
        "    ('Random Forest', RandomForestClassifier(random_state=42)),\n",
        "    ('KNN', KNeighborsClassifier()),\n",
        "    ('Decision Tree', DecisionTreeClassifier(random_state=42)),\n",
        "    ('Logistic Regression', LogisticRegression(random_state=42, max_iter=1000))\n",
        "]"
      ],
      "metadata": {
        "id": "D5oQ8-EjRxFZ"
      },
      "execution_count": 16,
      "outputs": []
    },
    {
      "cell_type": "code",
      "source": [
        "cv = StratifiedKFold(n_splits=5, shuffle=True, random_state=42)\n",
        "baseline_results = []"
      ],
      "metadata": {
        "id": "nNK1pYGARubT"
      },
      "execution_count": 17,
      "outputs": []
    },
    {
      "cell_type": "code",
      "source": [
        "for name, estimator in baseline_models:\n",
        "    print(f\"\\n{'='*40}\\nEvaluating {name} Baseline...\\n{'='*40}\")\n",
        "\n",
        "    # Create pipeline with default estimator\n",
        "    pipeline = Pipeline(steps=[\n",
        "        ('preprocessor', preprocessor),\n",
        "        ('classifier', clone(estimator))  # Clone to avoid parameter leakage\n",
        "    ])\n",
        "\n",
        "    # Get predicted probabilities using cross-validation\n",
        "    y_proba = cross_val_predict(\n",
        "        estimator=pipeline,\n",
        "        X=X_train,\n",
        "        y=y_train,\n",
        "        cv=cv,\n",
        "        method='predict_proba',\n",
        "        n_jobs=-1,\n",
        "        verbose=1\n",
        "    )[:, 1]  # Get probabilities for class 1\n",
        "\n",
        "    # Calculate metrics using out-of-fold predictions\n",
        "    results_df = pd.DataFrame({'score': y_proba, 'true_label': y_train.reset_index(drop=True)})\n",
        "    results_df['rank'] = results_df['score'].rank(method='first', ascending=False)\n",
        "    top_10_percent_cutoff = int(len(results_df) * 0.1)\n",
        "    results_df['prediction'] = (results_df['rank'] <= top_10_percent_cutoff).astype(int)\n",
        "\n",
        "    # Calculate precision@top10%\n",
        "    precision_top10 = precision_score(\n",
        "        results_df['true_label'],\n",
        "        results_df['prediction'],\n",
        "        zero_division=0\n",
        "    )\n",
        "\n",
        "    # Store results\n",
        "    baseline_results.append({\n",
        "        'Model': name,\n",
        "        'ROC AUC (CV)': roc_auc_score(y_train, y_proba),\n",
        "        'PR AUC (CV)': average_precision_score(y_train, y_proba),\n",
        "        'Precision@Top10% (CV)': precision_top10\n",
        "    })\n",
        "\n",
        "# Display baseline results\n",
        "print(\"\\n\\n\" + \"=\"*40 + \"\\nBaseline Model Performance (Cross-Validated)\\n\" + \"=\"*40)\n",
        "baseline_df = pd.DataFrame(baseline_results)\n",
        "print(baseline_df.to_string(index=False))\n"
      ],
      "metadata": {
        "colab": {
          "base_uri": "https://localhost:8080/"
        },
        "id": "t_2US2G0Wp-q",
        "outputId": "ddbda1d2-8703-4ea5-fefa-5486014a4183"
      },
      "execution_count": 18,
      "outputs": [
        {
          "output_type": "stream",
          "name": "stdout",
          "text": [
            "\n",
            "========================================\n",
            "Evaluating Random Forest Baseline...\n",
            "========================================\n"
          ]
        },
        {
          "output_type": "stream",
          "name": "stderr",
          "text": [
            "[Parallel(n_jobs=-1)]: Using backend LokyBackend with 2 concurrent workers.\n",
            "[Parallel(n_jobs=-1)]: Done   5 out of   5 | elapsed:   55.9s finished\n",
            "[Parallel(n_jobs=-1)]: Using backend LokyBackend with 2 concurrent workers.\n"
          ]
        },
        {
          "output_type": "stream",
          "name": "stdout",
          "text": [
            "\n",
            "========================================\n",
            "Evaluating KNN Baseline...\n",
            "========================================\n"
          ]
        },
        {
          "output_type": "stream",
          "name": "stderr",
          "text": [
            "[Parallel(n_jobs=-1)]: Done   5 out of   5 | elapsed:   10.7s finished\n",
            "[Parallel(n_jobs=-1)]: Using backend LokyBackend with 2 concurrent workers.\n"
          ]
        },
        {
          "output_type": "stream",
          "name": "stdout",
          "text": [
            "\n",
            "========================================\n",
            "Evaluating Decision Tree Baseline...\n",
            "========================================\n"
          ]
        },
        {
          "output_type": "stream",
          "name": "stderr",
          "text": [
            "[Parallel(n_jobs=-1)]: Done   5 out of   5 | elapsed:    4.0s finished\n",
            "[Parallel(n_jobs=-1)]: Using backend LokyBackend with 2 concurrent workers.\n"
          ]
        },
        {
          "output_type": "stream",
          "name": "stdout",
          "text": [
            "\n",
            "========================================\n",
            "Evaluating Logistic Regression Baseline...\n",
            "========================================\n",
            "\n",
            "\n",
            "========================================\n",
            "Baseline Model Performance (Cross-Validated)\n",
            "========================================\n",
            "              Model  ROC AUC (CV)  PR AUC (CV)  Precision@Top10% (CV)\n",
            "      Random Forest      0.707357     0.420031               0.507366\n",
            "                KNN      0.634719     0.338714               0.430171\n",
            "      Decision Tree      0.570947     0.290138               0.362994\n",
            "Logistic Regression      0.688718     0.414557               0.496759\n"
          ]
        },
        {
          "output_type": "stream",
          "name": "stderr",
          "text": [
            "[Parallel(n_jobs=-1)]: Done   5 out of   5 | elapsed:    1.1s finished\n"
          ]
        }
      ]
    },
    {
      "cell_type": "code",
      "source": [
        "import matplotlib.pyplot as plt\n",
        "from sklearn.metrics import classification_report, confusion_matrix, precision_recall_curve, auc, roc_curve, roc_auc_score\n",
        "import seaborn as sns"
      ],
      "metadata": {
        "id": "gvO1rVQ5oZ13"
      },
      "execution_count": 13,
      "outputs": []
    },
    {
      "cell_type": "markdown",
      "source": [
        "## **Findings: Precision@Top10% was the highest with Random Forest(0.507366) but Logistic Regression was a clost with (0.496759)**\n",
        "\n",
        "Now lets see if HYPERPARAMETER TUNING can help us."
      ],
      "metadata": {
        "id": "gRBu84NbXk4c"
      }
    },
    {
      "cell_type": "markdown",
      "source": [
        "\n",
        "=============================================================================\n",
        "STEP 2: HYPERPARAMETER TUNING WITH GRIDSEARCH (ONLY FOR TOP MODELS)\n",
        "============================================================================="
      ],
      "metadata": {
        "id": "AZLGUCG8S2q8"
      }
    },
    {
      "cell_type": "code",
      "source": [
        "models = [\n",
        "    {\n",
        "        'name': 'Random Forest',\n",
        "        'estimator': RandomForestClassifier(random_state=42),\n",
        "        'param_grid': {\n",
        "            'classifier__n_estimators': [50, 100, 150],\n",
        "            'classifier__max_depth': [5, 10, 15],\n",
        "            'classifier__min_samples_split': [2, 5, 10],\n",
        "            'classifier__min_samples_leaf': [1, 2],\n",
        "            'classifier__class_weight': ['balanced'],\n",
        "            'classifier__bootstrap': [True]\n",
        "        }\n",
        "    },\n",
        "    {\n",
        "        'name': 'Logistic Regression',\n",
        "        'estimator': LogisticRegression(random_state=42, max_iter=1000),\n",
        "        'param_grid': {\n",
        "            'classifier__C': [0.05,0.1, 1, 10],\n",
        "            'classifier__solver': ['saga'],\n",
        "            'classifier__penalty': ['l1','l2', 'none'],\n",
        "            'classifier__class_weight': [None, 'balanced']\n",
        "        }\n",
        "    }\n",
        "]\n",
        "\n",
        "# Train and evaluate tuned models\n",
        "cv = StratifiedKFold(n_splits=5, shuffle=True, random_state=42)\n",
        "results = []\n",
        "\n",
        "for model in models:\n",
        "    print(f\"\\n{'='*40}\\nTraining {model['name']}...\\n{'='*40}\")\n",
        "\n",
        "    pipeline = Pipeline(steps=[\n",
        "        ('preprocessor', preprocessor),\n",
        "        ('classifier', model['estimator'])\n",
        "    ])\n",
        "\n",
        "    grid_search = GridSearchCV(\n",
        "        estimator=pipeline,\n",
        "        param_grid=model['param_grid'],\n",
        "        cv=cv,\n",
        "        refit='PR_AUC',\n",
        "        n_jobs=-1,\n",
        "        verbose=1,\n",
        "        scoring={\n",
        "            'accuracy': 'accuracy',\n",
        "            'precision': 'precision',\n",
        "            'recall': 'recall',\n",
        "            'f1': 'f1',\n",
        "            'roc_auc': 'roc_auc',\n",
        "            'PR_AUC': 'average_precision'\n",
        "        }\n",
        "    )\n",
        "\n",
        "    grid_search.fit(X_train, y_train)\n",
        "\n",
        "    # Get predictions on test set\n",
        "    best_model = grid_search.best_estimator_\n",
        "    y_pred = best_model.predict(X_test)\n",
        "    y_proba = best_model.predict_proba(X_test)[:, 1]\n",
        "\n",
        "    # Calculate metrics (including top 10% precision)\n",
        "    report = classification_report(y_test, y_pred, output_dict=True)\n",
        "    results_df = pd.DataFrame({'score': y_proba, 'true_label': y_test.reset_index(drop=True)})\n",
        "    results_df['rank'] = results_df['score'].rank(method='first', ascending=False)\n",
        "    top_10_percent_cutoff = int(len(results_df) * 0.1)\n",
        "    results_df['prediction'] = (results_df['rank'] <= top_10_percent_cutoff).astype(int)\n",
        "\n",
        "    results.append({\n",
        "        'Model': model['name'],\n",
        "        'Best Params': grid_search.best_params_,\n",
        "        'Test Accuracy': report['accuracy'],\n",
        "        'Test Precision (Class 1)': report['1']['precision'],\n",
        "        'Test Recall (Class 1)': report['1']['recall'],\n",
        "        'Test F1 (Class 1)': report['1']['f1-score'],\n",
        "        'Test ROC AUC': roc_auc_score(y_test, y_proba),\n",
        "        'Test PR AUC': average_precision_score(y_test, y_proba),\n",
        "        'Test Precision Top10%': precision_score(results_df['true_label'], results_df['prediction'])\n",
        "    })\n",
        "\n",
        "# Display final results\n",
        "print(\"\\n\\n\" + \"=\"*40 + \"\\nFinal Model Comparison (Tuned)\\n\" + \"=\"*40)\n",
        "results_df = pd.DataFrame(results)\n",
        "print(\"\\nMetrics Comparison:\")\n",
        "print(results_df.drop(columns='Best Params').to_string(index=False))\n",
        "print(\"\\n\\n\" + \"=\"*40 + \"\\nBest Parameters\\n\" + \"=\"*40)\n",
        "for model_result in results:\n",
        "    print(f\"\\n{model_result['Model']}:\")\n",
        "    print(pd.Series(model_result['Best Params']).to_string())"
      ],
      "metadata": {
        "colab": {
          "base_uri": "https://localhost:8080/"
        },
        "id": "cBiPBGfXdgb_",
        "outputId": "41674d3d-81c6-4cb0-d263-3bc82ea8b381"
      },
      "execution_count": 7,
      "outputs": [
        {
          "output_type": "stream",
          "name": "stdout",
          "text": [
            "\n",
            "========================================\n",
            "Training Random Forest...\n",
            "========================================\n",
            "Fitting 5 folds for each of 54 candidates, totalling 270 fits\n",
            "\n",
            "========================================\n",
            "Training Logistic Regression...\n",
            "========================================\n",
            "Fitting 5 folds for each of 24 candidates, totalling 120 fits\n"
          ]
        },
        {
          "output_type": "stream",
          "name": "stderr",
          "text": [
            "/usr/local/lib/python3.11/dist-packages/sklearn/model_selection/_validation.py:528: FitFailedWarning: \n",
            "40 fits failed out of a total of 120.\n",
            "The score on these train-test partitions for these parameters will be set to nan.\n",
            "If these failures are not expected, you can try to debug them by setting error_score='raise'.\n",
            "\n",
            "Below are more details about the failures:\n",
            "--------------------------------------------------------------------------------\n",
            "21 fits failed with the following error:\n",
            "Traceback (most recent call last):\n",
            "  File \"/usr/local/lib/python3.11/dist-packages/sklearn/model_selection/_validation.py\", line 866, in _fit_and_score\n",
            "    estimator.fit(X_train, y_train, **fit_params)\n",
            "  File \"/usr/local/lib/python3.11/dist-packages/sklearn/base.py\", line 1389, in wrapper\n",
            "    return fit_method(estimator, *args, **kwargs)\n",
            "           ^^^^^^^^^^^^^^^^^^^^^^^^^^^^^^^^^^^^^^\n",
            "  File \"/usr/local/lib/python3.11/dist-packages/sklearn/pipeline.py\", line 662, in fit\n",
            "    self._final_estimator.fit(Xt, y, **last_step_params[\"fit\"])\n",
            "  File \"/usr/local/lib/python3.11/dist-packages/sklearn/base.py\", line 1382, in wrapper\n",
            "    estimator._validate_params()\n",
            "  File \"/usr/local/lib/python3.11/dist-packages/sklearn/base.py\", line 436, in _validate_params\n",
            "    validate_parameter_constraints(\n",
            "  File \"/usr/local/lib/python3.11/dist-packages/sklearn/utils/_param_validation.py\", line 98, in validate_parameter_constraints\n",
            "    raise InvalidParameterError(\n",
            "sklearn.utils._param_validation.InvalidParameterError: The 'penalty' parameter of LogisticRegression must be a str among {'l1', 'l2', 'elasticnet'} or None. Got 'none' instead.\n",
            "\n",
            "--------------------------------------------------------------------------------\n",
            "19 fits failed with the following error:\n",
            "Traceback (most recent call last):\n",
            "  File \"/usr/local/lib/python3.11/dist-packages/sklearn/model_selection/_validation.py\", line 866, in _fit_and_score\n",
            "    estimator.fit(X_train, y_train, **fit_params)\n",
            "  File \"/usr/local/lib/python3.11/dist-packages/sklearn/base.py\", line 1389, in wrapper\n",
            "    return fit_method(estimator, *args, **kwargs)\n",
            "           ^^^^^^^^^^^^^^^^^^^^^^^^^^^^^^^^^^^^^^\n",
            "  File \"/usr/local/lib/python3.11/dist-packages/sklearn/pipeline.py\", line 662, in fit\n",
            "    self._final_estimator.fit(Xt, y, **last_step_params[\"fit\"])\n",
            "  File \"/usr/local/lib/python3.11/dist-packages/sklearn/base.py\", line 1382, in wrapper\n",
            "    estimator._validate_params()\n",
            "  File \"/usr/local/lib/python3.11/dist-packages/sklearn/base.py\", line 436, in _validate_params\n",
            "    validate_parameter_constraints(\n",
            "  File \"/usr/local/lib/python3.11/dist-packages/sklearn/utils/_param_validation.py\", line 98, in validate_parameter_constraints\n",
            "    raise InvalidParameterError(\n",
            "sklearn.utils._param_validation.InvalidParameterError: The 'penalty' parameter of LogisticRegression must be a str among {'l2', 'l1', 'elasticnet'} or None. Got 'none' instead.\n",
            "\n",
            "  warnings.warn(some_fits_failed_message, FitFailedWarning)\n",
            "/usr/local/lib/python3.11/dist-packages/sklearn/model_selection/_search.py:1108: UserWarning: One or more of the test scores are non-finite: [0.74988221 0.74952866        nan 0.65230933 0.65932113        nan\n",
            " 0.7504124  0.75088378        nan 0.6544894  0.66091193        nan\n",
            " 0.75164991 0.75111954        nan 0.66150082 0.66385778        nan\n",
            " 0.75200328 0.75164975        nan 0.66403453 0.66432917        nan]\n",
            "  warnings.warn(\n",
            "/usr/local/lib/python3.11/dist-packages/sklearn/model_selection/_search.py:1108: UserWarning: One or more of the test scores are non-finite: [0.54259217 0.52053386        nan 0.38309274 0.38954432        nan\n",
            " 0.54642271 0.53678337        nan 0.38535045 0.39050066        nan\n",
            " 0.5358744  0.5246836         nan 0.39008497 0.39111526        nan\n",
            " 0.53041448 0.52723174        nan 0.39098829 0.39113232        nan]\n",
            "  warnings.warn(\n",
            "/usr/local/lib/python3.11/dist-packages/sklearn/model_selection/_search.py:1108: UserWarning: One or more of the test scores are non-finite: [0.03957845 0.0557377         nan 0.62412178 0.62318501        nan\n",
            " 0.04847775 0.07213115        nan 0.62576112 0.61943794        nan\n",
            " 0.09929742 0.11217799        nan 0.61194379 0.6030445         nan\n",
            " 0.12271663 0.12248244        nan 0.60117096 0.6               nan]\n",
            "  warnings.warn(\n",
            "/usr/local/lib/python3.11/dist-packages/sklearn/model_selection/_search.py:1108: UserWarning: One or more of the test scores are non-finite: [0.07371115 0.10068764        nan 0.4746214  0.47926577        nan\n",
            " 0.08902197 0.12713984        nan 0.47681291 0.47890539        nan\n",
            " 0.16736593 0.18472259        nan 0.47634257 0.47440178        nan\n",
            " 0.1992377  0.19870105        nan 0.47372255 0.47346032        nan]\n",
            "  warnings.warn(\n",
            "/usr/local/lib/python3.11/dist-packages/sklearn/model_selection/_search.py:1108: UserWarning: One or more of the test scores are non-finite: [0.67815466 0.6904531         nan 0.69074119 0.69936314        nan\n",
            " 0.68685957 0.6918887         nan 0.69710524 0.70041241        nan\n",
            " 0.69400417 0.69139796        nan 0.70162901 0.69843641        nan\n",
            " 0.6909596  0.69044107        nan 0.6976005  0.69706409        nan]\n",
            "  warnings.warn(\n",
            "/usr/local/lib/python3.11/dist-packages/sklearn/model_selection/_search.py:1108: UserWarning: One or more of the test scores are non-finite: [0.39867159 0.41534606        nan 0.41104768 0.42327112        nan\n",
            " 0.41003564 0.41860027        nan 0.42031053 0.42592409        nan\n",
            " 0.42194526 0.41821094        nan 0.42930191 0.42504071        nan\n",
            " 0.41770463 0.41701988        nan 0.42402721 0.42346304        nan]\n",
            "  warnings.warn(\n"
          ]
        },
        {
          "output_type": "stream",
          "name": "stdout",
          "text": [
            "\n",
            "\n",
            "========================================\n",
            "Final Model Comparison (Tuned)\n",
            "========================================\n",
            "\n",
            "Metrics Comparison:\n",
            "              Model  Test Accuracy  Test Precision (Class 1)  Test Recall (Class 1)  Test F1 (Class 1)  Test ROC AUC  Test PR AUC  Test Precision Top10%\n",
            "      Random Forest       0.663210                  0.401724               0.643054           0.494517      0.714277     0.459238               0.556604\n",
            "Logistic Regression       0.658025                  0.393443               0.618215           0.480859      0.702084     0.447423               0.530660\n",
            "\n",
            "\n",
            "========================================\n",
            "Best Parameters\n",
            "========================================\n",
            "\n",
            "Random Forest:\n",
            "classifier__bootstrap                True\n",
            "classifier__class_weight         balanced\n",
            "classifier__max_depth                  15\n",
            "classifier__min_samples_leaf            1\n",
            "classifier__min_samples_split           5\n",
            "classifier__n_estimators              100\n",
            "\n",
            "Logistic Regression:\n",
            "classifier__C                      1\n",
            "classifier__class_weight    balanced\n",
            "classifier__penalty               l1\n",
            "classifier__solver              saga\n"
          ]
        },
        {
          "output_type": "stream",
          "name": "stderr",
          "text": [
            "/usr/local/lib/python3.11/dist-packages/sklearn/linear_model/_sag.py:348: ConvergenceWarning: The max_iter was reached which means the coef_ did not converge\n",
            "  warnings.warn(\n"
          ]
        }
      ]
    },
    {
      "cell_type": "code",
      "source": [
        "plt.figure(figsize=(8, 6))\n",
        "cm = confusion_matrix(y_test, y_pred)\n",
        "sns.heatmap(cm, annot=True, fmt='d', cmap='Blues', cbar=False)\n",
        "plt.xlabel('Predicted')\n",
        "plt.ylabel('Actual')\n",
        "plt.title('Confusion Matrix')\n",
        "plt.savefig('confusion_matrix.png')"
      ],
      "metadata": {
        "colab": {
          "base_uri": "https://localhost:8080/",
          "height": 564
        },
        "id": "jTn-zQUyn0aX",
        "outputId": "382c0689-60f3-4a29-ea0d-d895f698726f"
      },
      "execution_count": 19,
      "outputs": [
        {
          "output_type": "display_data",
          "data": {
            "text/plain": [
              "<Figure size 800x600 with 1 Axes>"
            ],
            "image/png": "[encoded data removed]"
          },
          "metadata": {}
        }
      ]
    }
  ]
}