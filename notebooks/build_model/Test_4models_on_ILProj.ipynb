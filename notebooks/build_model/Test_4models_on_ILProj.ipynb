{
  "nbformat": 4,
  "nbformat_minor": 0,
  "metadata": {
    "colab": {
      "provenance": []
    },
    "kernelspec": {
      "name": "python3",
      "display_name": "Python 3"
    },
    "language_info": {
      "name": "python"
    }
  },
  "cells": [
    {
      "cell_type": "code",
      "source": [
        "import pandas as pd\n",
        "import numpy as np\n",
        "from sklearn.model_selection import train_test_split, GridSearchCV, StratifiedKFold, cross_validate\n",
        "from sklearn.ensemble import RandomForestClassifier\n",
        "from sklearn.neighbors import KNeighborsClassifier\n",
        "from sklearn.tree import DecisionTreeClassifier\n",
        "from sklearn.linear_model import LogisticRegression\n",
        "from sklearn.preprocessing import StandardScaler, OneHotEncoder\n",
        "from sklearn.impute import SimpleImputer\n",
        "from sklearn.compose import ColumnTransformer\n",
        "from sklearn.pipeline import Pipeline\n",
        "from sklearn.metrics import classification_report, roc_auc_score, average_precision_score, precision_score\n"
      ],
      "metadata": {
        "id": "XZaafpQhScv5"
      },
      "execution_count": 6,
      "outputs": []
    },
    {
      "cell_type": "code",
      "source": [
        "# Load and preprocess data\n",
        "outcomes = pd.read_csv('outcomes.csv')\n",
        "projects = pd.read_csv('projects.csv')\n",
        "\n",
        "outcomes['fully_funded'] = outcomes['fully_funded'].map({'t': 1, 'f': 0})\n",
        "outcomes['not_fully_funded'] = 1 - outcomes['fully_funded']\n",
        "projects['date_posted'] = pd.to_datetime(projects['date_posted'])\n",
        "data = pd.merge(projects, outcomes[['projectid', 'not_fully_funded']], on='projectid')\n",
        "\n",
        "data = data[data['date_posted'] >= '2010-01-01']  # Only use data after 2010\n",
        "data_chicago = data[data['school_state'] == 'IL']  # Only look at the state IL\n",
        "data_chicago_dropped = data_chicago.drop(columns=[\n",
        "    'secondary_focus_subject', 'secondary_focus_area', 'school_metro',\n",
        "    'school_ncesid', 'school_latitude', 'school_longitude'\n",
        "])\n",
        "\n",
        "# Create feature list and split data\n",
        "features = [\n",
        "    'primary_focus_subject', 'resource_type', 'school_nlns', 'school_charter',\n",
        "    'school_county', 'school_district', 'teacher_prefix', 'poverty_level',\n",
        "    'grade_level', 'fulfillment_labor_materials',\n",
        "    'total_price_excluding_optional_support', 'total_price_including_optional_support'\n",
        "]\n",
        "\n",
        "X = data_chicago_dropped[features]\n",
        "y = data_chicago_dropped['not_fully_funded']\n",
        "X_train, X_test, y_train, y_test = train_test_split(X, y, test_size=0.2, random_state=42)\n",
        "\n",
        "# Define preprocessing\n",
        "numeric_features = [\n",
        "    'fulfillment_labor_materials',\n",
        "    'total_price_excluding_optional_support',\n",
        "    'total_price_including_optional_support'\n",
        "]\n",
        "\n",
        "categorical_features = [\n",
        "    'primary_focus_subject', 'resource_type', 'school_nlns', 'school_charter',\n",
        "    'school_county', 'school_district', 'teacher_prefix', 'poverty_level', 'grade_level'\n",
        "]\n",
        "\n",
        "numeric_transformer = Pipeline(steps=[\n",
        "    ('imputer', SimpleImputer(strategy='median')),\n",
        "    ('scaler', StandardScaler())\n",
        "])\n",
        "\n",
        "categorical_transformer = Pipeline(steps=[\n",
        "    ('imputer', SimpleImputer(strategy='most_frequent')),\n",
        "    ('onehot', OneHotEncoder(handle_unknown='ignore'))\n",
        "])\n",
        "\n",
        "preprocessor = ColumnTransformer(\n",
        "    transformers=[\n",
        "        ('num', numeric_transformer, numeric_features),\n",
        "        ('cat', categorical_transformer, categorical_features)\n",
        "])\n"
      ],
      "metadata": {
        "id": "0tGQbXctKmOw"
      },
      "execution_count": 3,
      "outputs": []
    },
    {
      "cell_type": "markdown",
      "source": [
        "=============================================================================\n",
        "# STEP 1: BASELINE PERFORMANCE WITH DEFAULT HYPERPARAMETERS (WITH TOP 10% PRECISION)\n",
        "============================================================================="
      ],
      "metadata": {
        "id": "YJzP2pqtWFSr"
      }
    },
    {
      "cell_type": "code",
      "source": [
        "from sklearn.model_selection import cross_val_predict\n",
        "from sklearn.base import clone"
      ],
      "metadata": {
        "id": "9315wIdUWL-y"
      },
      "execution_count": 14,
      "outputs": []
    },
    {
      "cell_type": "code",
      "source": [
        "# Define models without parameter grids (defaults only)\n",
        "baseline_models = [\n",
        "    ('Random Forest', RandomForestClassifier(random_state=42)),\n",
        "    ('KNN', KNeighborsClassifier()),\n",
        "    ('Decision Tree', DecisionTreeClassifier(random_state=42)),\n",
        "    ('Logistic Regression', LogisticRegression(random_state=42, max_iter=1000))\n",
        "]"
      ],
      "metadata": {
        "id": "D5oQ8-EjRxFZ"
      },
      "execution_count": 15,
      "outputs": []
    },
    {
      "cell_type": "code",
      "source": [
        "cv = StratifiedKFold(n_splits=5, shuffle=True, random_state=42)\n",
        "baseline_results = []"
      ],
      "metadata": {
        "id": "nNK1pYGARubT"
      },
      "execution_count": 16,
      "outputs": []
    },
    {
      "cell_type": "code",
      "source": [
        "for name, estimator in baseline_models:\n",
        "    print(f\"\\n{'='*40}\\nEvaluating {name} Baseline...\\n{'='*40}\")\n",
        "\n",
        "    # Create pipeline with default estimator\n",
        "    pipeline = Pipeline(steps=[\n",
        "        ('preprocessor', preprocessor),\n",
        "        ('classifier', clone(estimator))  # Clone to avoid parameter leakage\n",
        "    ])\n",
        "\n",
        "    # Get predicted probabilities using cross-validation\n",
        "    y_proba = cross_val_predict(\n",
        "        estimator=pipeline,\n",
        "        X=X_train,\n",
        "        y=y_train,\n",
        "        cv=cv,\n",
        "        method='predict_proba',\n",
        "        n_jobs=-1,\n",
        "        verbose=1\n",
        "    )[:, 1]  # Get probabilities for class 1\n",
        "\n",
        "    # Calculate metrics using out-of-fold predictions\n",
        "    results_df = pd.DataFrame({'score': y_proba, 'true_label': y_train.reset_index(drop=True)})\n",
        "    results_df['rank'] = results_df['score'].rank(method='first', ascending=False)\n",
        "    top_10_percent_cutoff = int(len(results_df) * 0.1)\n",
        "    results_df['prediction'] = (results_df['rank'] <= top_10_percent_cutoff).astype(int)\n",
        "\n",
        "    # Calculate precision@top10%\n",
        "    precision_top10 = precision_score(\n",
        "        results_df['true_label'],\n",
        "        results_df['prediction'],\n",
        "        zero_division=0\n",
        "    )\n",
        "\n",
        "    # Store results\n",
        "    baseline_results.append({\n",
        "        'Model': name,\n",
        "        'ROC AUC (CV)': roc_auc_score(y_train, y_proba),\n",
        "        'PR AUC (CV)': average_precision_score(y_train, y_proba),\n",
        "        'Precision@Top10% (CV)': precision_top10\n",
        "    })\n",
        "\n",
        "# Display baseline results\n",
        "print(\"\\n\\n\" + \"=\"*40 + \"\\nBaseline Model Performance (Cross-Validated)\\n\" + \"=\"*40)\n",
        "baseline_df = pd.DataFrame(baseline_results)\n",
        "print(baseline_df.to_string(index=False))\n"
      ],
      "metadata": {
        "colab": {
          "base_uri": "https://localhost:8080/"
        },
        "id": "t_2US2G0Wp-q",
        "outputId": "0f27817c-3c88-45d9-8bf3-1fdaf236deef"
      },
      "execution_count": 17,
      "outputs": [
        {
          "output_type": "stream",
          "name": "stdout",
          "text": [
            "\n",
            "========================================\n",
            "Evaluating Random Forest Baseline...\n",
            "========================================\n"
          ]
        },
        {
          "output_type": "stream",
          "name": "stderr",
          "text": [
            "[Parallel(n_jobs=-1)]: Using backend LokyBackend with 2 concurrent workers.\n",
            "[Parallel(n_jobs=-1)]: Done   5 out of   5 | elapsed:  1.0min finished\n",
            "[Parallel(n_jobs=-1)]: Using backend LokyBackend with 2 concurrent workers.\n"
          ]
        },
        {
          "output_type": "stream",
          "name": "stdout",
          "text": [
            "\n",
            "========================================\n",
            "Evaluating KNN Baseline...\n",
            "========================================\n"
          ]
        },
        {
          "output_type": "stream",
          "name": "stderr",
          "text": [
            "[Parallel(n_jobs=-1)]: Done   5 out of   5 | elapsed:   10.1s finished\n",
            "[Parallel(n_jobs=-1)]: Using backend LokyBackend with 2 concurrent workers.\n"
          ]
        },
        {
          "output_type": "stream",
          "name": "stdout",
          "text": [
            "\n",
            "========================================\n",
            "Evaluating Decision Tree Baseline...\n",
            "========================================\n"
          ]
        },
        {
          "output_type": "stream",
          "name": "stderr",
          "text": [
            "[Parallel(n_jobs=-1)]: Done   5 out of   5 | elapsed:    4.5s finished\n",
            "[Parallel(n_jobs=-1)]: Using backend LokyBackend with 2 concurrent workers.\n"
          ]
        },
        {
          "output_type": "stream",
          "name": "stdout",
          "text": [
            "\n",
            "========================================\n",
            "Evaluating Logistic Regression Baseline...\n",
            "========================================\n",
            "\n",
            "\n",
            "========================================\n",
            "Baseline Model Performance (Cross-Validated)\n",
            "========================================\n",
            "              Model  ROC AUC (CV)  PR AUC (CV)  Precision@Top10% (CV)\n",
            "      Random Forest      0.707357     0.420031               0.507366\n",
            "                KNN      0.634719     0.338714               0.430171\n",
            "      Decision Tree      0.570947     0.290138               0.362994\n",
            "Logistic Regression      0.688718     0.414557               0.496759\n"
          ]
        },
        {
          "output_type": "stream",
          "name": "stderr",
          "text": [
            "[Parallel(n_jobs=-1)]: Done   5 out of   5 | elapsed:    1.1s finished\n"
          ]
        }
      ]
    },
    {
      "cell_type": "markdown",
      "source": [
        "## **Findings: Precision@Top10% was the highest with Random Forest(0.507366) but Logistic Regression was a clost with (0.496759)**\n",
        "\n",
        "Now lets see if HYPERPARAMETER TUNING can help us."
      ],
      "metadata": {
        "id": "gRBu84NbXk4c"
      }
    },
    {
      "cell_type": "markdown",
      "source": [
        "\n",
        "=============================================================================\n",
        "STEP 2: HYPERPARAMETER TUNING WITH GRIDSEARCH (ONLY FOR TOP MODELS)\n",
        "============================================================================="
      ],
      "metadata": {
        "id": "AZLGUCG8S2q8"
      }
    },
    {
      "cell_type": "code",
      "source": [
        "models = [\n",
        "    {\n",
        "        'name': 'Random Forest',\n",
        "        'estimator': RandomForestClassifier(random_state=42),\n",
        "        'param_grid': {\n",
        "            'classifier__n_estimators': [100, 200], # More trees for stability\n",
        "            'classifier__max_depth': [3, 5, 10, None], # Test shallower trees to reduce overfit\n",
        "            'classifier__min_samples_split': [2, 5, 10], # Force more conservative splits\n",
        "            'classifier__min_samples_leaf': [1, 2, 4], # Prevent overly confident leaves\n",
        "            'classifier__class_weight': [None, 'balanced'],  # Address class imbalance\n",
        "            'classifier__max_features': ['sqrt', 0.5]  # Control feature randomness\n",
        "        }\n",
        "    },\n",
        "    {\n",
        "        'name': 'Logistic Regression',\n",
        "        'estimator': LogisticRegression(random_state=42, max_iter=1000),\n",
        "        'param_grid': {\n",
        "            'classifier__C': [0.01, 0.1, 1, 10, 100],  # Wider range for regularization\n",
        "            'classifier__penalty': ['l1', 'l2', 'elasticnet'],  # Test L1 for sparsity\n",
        "            'classifier__solver': ['saga'],  # Required for L1/elasticnet\n",
        "            'classifier__l1_ratio': [0.3, 0.5, 0.7],  # For elasticnet mixing\n",
        "            'classifier__class_weight': [None, 'balanced']  # Handle class imbalance\n",
        "        }\n",
        "    }\n",
        "]\n",
        "\n",
        "# Train and evaluate tuned models\n",
        "cv = StratifiedKFold(n_splits=5, shuffle=True, random_state=42)\n",
        "results = []\n",
        "\n",
        "for model in models:\n",
        "    print(f\"\\n{'='*40}\\nTraining {model['name']}...\\n{'='*40}\")\n",
        "\n",
        "    pipeline = Pipeline(steps=[\n",
        "        ('preprocessor', preprocessor),\n",
        "        ('classifier', model['estimator'])\n",
        "    ])\n",
        "\n",
        "    grid_search = GridSearchCV(\n",
        "        estimator=pipeline,\n",
        "        param_grid=model['param_grid'],\n",
        "        cv=cv,\n",
        "        refit='PR_AUC',\n",
        "        n_jobs=-1,\n",
        "        verbose=1,\n",
        "        scoring={\n",
        "            'accuracy': 'accuracy',\n",
        "            'precision': 'precision',\n",
        "            'recall': 'recall',\n",
        "            'f1': 'f1',\n",
        "            'roc_auc': 'roc_auc',\n",
        "            'PR_AUC': 'average_precision'\n",
        "        }\n",
        "    )\n",
        "\n",
        "    grid_search.fit(X_train, y_train)\n",
        "\n",
        "    # Get predictions on test set\n",
        "    best_model = grid_search.best_estimator_\n",
        "    y_pred = best_model.predict(X_test)\n",
        "    y_proba = best_model.predict_proba(X_test)[:, 1]\n",
        "\n",
        "    # Calculate metrics (including top 10% precision)\n",
        "    report = classification_report(y_test, y_pred, output_dict=True)\n",
        "    results_df = pd.DataFrame({'score': y_proba, 'true_label': y_test.reset_index(drop=True)})\n",
        "    results_df['rank'] = results_df['score'].rank(method='first', ascending=False)\n",
        "    top_10_percent_cutoff = int(len(results_df) * 0.1)\n",
        "    results_df['prediction'] = (results_df['rank'] <= top_10_percent_cutoff).astype(int)\n",
        "\n",
        "    results.append({\n",
        "        'Model': model['name'],\n",
        "        'Best Params': grid_search.best_params_,\n",
        "        'Test Accuracy': report['accuracy'],\n",
        "        'Test Precision (Class 1)': report['1']['precision'],\n",
        "        'Test Recall (Class 1)': report['1']['recall'],\n",
        "        'Test F1 (Class 1)': report['1']['f1-score'],\n",
        "        'Test ROC AUC': roc_auc_score(y_test, y_proba),\n",
        "        'Test PR AUC': average_precision_score(y_test, y_proba),\n",
        "        'Test Precision Top10%': precision_score(results_df['true_label'], results_df['prediction'])\n",
        "    })\n",
        "\n",
        "# Display final results\n",
        "print(\"\\n\\n\" + \"=\"*40 + \"\\nFinal Model Comparison (Tuned)\\n\" + \"=\"*40)\n",
        "results_df = pd.DataFrame(results)\n",
        "print(\"\\nMetrics Comparison:\")\n",
        "print(results_df.drop(columns='Best Params').to_string(index=False))\n",
        "print(\"\\n\\n\" + \"=\"*40 + \"\\nBest Parameters\\n\" + \"=\"*40)\n",
        "for model_result in results:\n",
        "    print(f\"\\n{model_result['Model']}:\")\n",
        "    print(pd.Series(model_result['Best Params']).to_string())"
      ],
      "metadata": {
        "colab": {
          "base_uri": "https://localhost:8080/"
        },
        "id": "cBiPBGfXdgb_",
        "outputId": "d036f4ec-729c-4ef3-8051-3693c9389e1c"
      },
      "execution_count": null,
      "outputs": [
        {
          "output_type": "stream",
          "name": "stdout",
          "text": [
            "\n",
            "========================================\n",
            "Training Random Forest...\n",
            "========================================\n",
            "Fitting 5 folds for each of 288 candidates, totalling 1440 fits\n"
          ]
        }
      ]
    }
  ]
}