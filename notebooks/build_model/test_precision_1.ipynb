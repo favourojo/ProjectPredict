{
 "cells": [
  {
   "cell_type": "code",
   "execution_count": 1,
   "id": "6652c28c-7992-498e-be75-bc637e2d9ce2",
   "metadata": {},
   "outputs": [
    {
     "name": "stdout",
     "output_type": "stream",
     "text": [
      "not_fully_funded\n",
      "0    430683\n",
      "1    188643\n",
      "Name: count, dtype: int64\n",
      "                          projectid is_exciting  not_fully_funded\n",
      "0  ffffc4f85b60efc5b52347df489d0238           f                 1\n",
      "1  ffffac55ee02a49d1abc87ba6fc61135           f                 0\n",
      "2  ffff97ed93720407d70a2787475932b0           f                 0\n",
      "3  ffff418bb42fad24347527ad96100f81           f                 1\n",
      "4  ffff2d9c769c8fb5335e949c615425eb           t                 0\n"
     ]
    }
   ],
   "source": [
    "import pandas as pd\n",
    "from sklearn.ensemble import RandomForestClassifier\n",
    "from sklearn.model_selection import GridSearchCV, train_test_split\n",
    "from sklearn.metrics import precision_score\n",
    "\n",
    "# Load outcomes.csv\n",
    "outcomes = pd.read_csv('outcomes.csv')\n",
    "projects = pd.read_csv('projects.csv')\n",
    "\n",
    "# Convert 't' (True) → 1, 'f' (False) → 0\n",
    "outcomes['fully_funded'] = outcomes['fully_funded'].map({'t': 1, 'f': 0})\n",
    "outcomes['not_fully_funded'] = outcomes['fully_funded'].apply(lambda x: 0 if x == 1 else 1)\n",
    "projects['date_posted'] = pd.to_datetime(projects['date_posted'])\n",
    "\n",
    "# Confirm the conversion\n",
    "print(outcomes['not_fully_funded'].value_counts())\n",
    "print(outcomes[['projectid','is_exciting', 'not_fully_funded']].head())\n",
    "\n",
    "# sort by score desc\n",
    "# rank / if rank is 10% rank is top 10% or 0\n",
    "# score to rank to prediction "
   ]
  },
  {
   "cell_type": "code",
   "execution_count": 2,
   "id": "8d457417-7b8d-42e8-9bcb-04deaa116b9e",
   "metadata": {},
   "outputs": [],
   "source": [
    "# Merging datasets \n",
    "data = pd.merge(projects, outcomes[['projectid', 'not_fully_funded']], on='projectid')\n",
    "data = data[data['date_posted'] >= '2010-01-01']\n",
    "\n",
    "# Feature matrix / train-test split / performance matrix \n",
    "# Numerical Feature to predict precision / Logisitic Regression"
   ]
  },
  {
   "cell_type": "code",
   "execution_count": 3,
   "id": "bed0d30e-abf0-4248-b6e0-b86d4d51f4d9",
   "metadata": {},
   "outputs": [
    {
     "name": "stdout",
     "output_type": "stream",
     "text": [
      "Test Set Precision Score: 0.3054042540242826\n"
     ]
    }
   ],
   "source": [
    "# Feature Generation \n",
    "features = ['primary_focus_subject']  # example\n",
    "X = pd.get_dummies(data[features], drop_first=True)\n",
    "y = data['not_fully_funded']\n",
    "\n",
    "# Train/Test Split\n",
    "X_train, X_test, y_train, y_test = train_test_split(X, y, test_size=0.2, random_state=42)\n",
    "\n",
    "# Train Random Forest model\n",
    "rf = RandomForestClassifier(n_estimators=100, class_weight='balanced', random_state=42)\n",
    "rf.fit(X_train, y_train)\n",
    "\n",
    "# Get predicted probabilities for class 1 (not fully funded)\n",
    "y_pred = rf.predict(X_test)\n",
    "\n",
    "# Evaluate precision as performance metric\n",
    "precision = precision_score(y_test, y_pred)\n",
    "print(\"Test Set Precision Score:\", precision)"
   ]
  },
  {
   "cell_type": "code",
   "execution_count": null,
   "id": "346065f4-6b7f-4f82-9048-063195b4fd5a",
   "metadata": {},
   "outputs": [],
   "source": []
  },
  {
   "cell_type": "code",
   "execution_count": null,
   "id": "5bfd57e7-fac5-41cc-a9a2-37867f1e1088",
   "metadata": {},
   "outputs": [],
   "source": []
  }
 ],
 "metadata": {
  "kernelspec": {
   "display_name": "Python 3 (ipykernel)",
   "language": "python",
   "name": "python3"
  },
  "language_info": {
   "codemirror_mode": {
    "name": "ipython",
    "version": 3
   },
   "file_extension": ".py",
   "mimetype": "text/x-python",
   "name": "python",
   "nbconvert_exporter": "python",
   "pygments_lexer": "ipython3",
   "version": "3.12.8"
  }
 },
 "nbformat": 4,
 "nbformat_minor": 5
}
