{
 "cells": [
  {
   "cell_type": "code",
   "execution_count": 1,
   "id": "407e5c08-0974-4c0e-aa4d-1137d57e7db0",
   "metadata": {},
   "outputs": [
    {
     "name": "stdout",
     "output_type": "stream",
     "text": [
      "not_fully_funded\n",
      "0    430683\n",
      "1    188643\n",
      "Name: count, dtype: int64\n",
      "                          projectid is_exciting  not_fully_funded\n",
      "0  ffffc4f85b60efc5b52347df489d0238           f                 1\n",
      "1  ffffac55ee02a49d1abc87ba6fc61135           f                 0\n",
      "2  ffff97ed93720407d70a2787475932b0           f                 0\n",
      "3  ffff418bb42fad24347527ad96100f81           f                 1\n",
      "4  ffff2d9c769c8fb5335e949c615425eb           t                 0\n"
     ]
    }
   ],
   "source": [
    "import pandas as pd\n",
    "from sklearn.ensemble import RandomForestClassifier\n",
    "from sklearn.model_selection import train_test_split\n",
    "from sklearn.metrics import precision_score\n",
    "\n",
    "# Step 1: Load and preprocess data\n",
    "outcomes = pd.read_csv('outcomes.csv')\n",
    "projects = pd.read_csv('projects.csv')\n",
    "\n",
    "# Map 't' → 1 and 'f' → 0 in 'fully_funded'\n",
    "outcomes['fully_funded'] = outcomes['fully_funded'].map({'t': 1, 'f': 0})\n",
    "outcomes['not_fully_funded'] = 1 - outcomes['fully_funded']  # Alternative to lambda\n",
    "\n",
    "# Merge datasets and filter by date\n",
    "projects['date_posted'] = pd.to_datetime(projects['date_posted'])\n",
    "data = pd.merge(projects, outcomes[['projectid', 'not_fully_funded']], on='projectid')\n",
    "data = data[data['date_posted'] >= '2010-01-01']\n",
    "\n",
    "# Confirm the conversion\n",
    "print(outcomes['not_fully_funded'].value_counts())\n",
    "print(outcomes[['projectid','is_exciting', 'not_fully_funded']].head())\n",
    "\n",
    "# Add new time-related features \n",
    "data['year_posted'] = data['date_posted'].dt.year\n",
    "data['month_posted'] = data['date_posted'].dt.month\n",
    "data['days_since_posted'] = (pd.Timestamp.now() - data['date_posted']).dt.days\n",
    "\n",
    "# Add interaction features\n",
    "data['state_poverty_interaction'] = data['school_state'] + '_' + data['poverty_level']"
   ]
  },
  {
   "cell_type": "code",
   "execution_count": 2,
   "id": "b8dfba26-34cc-46e1-9eb1-cfc8835c0193",
   "metadata": {},
   "outputs": [],
   "source": [
    "# Step 2: Minimal feature matrix\n",
    "features = [\n",
    "    'primary_focus_subject', \n",
    "    'school_state', \n",
    "    'resource_type', \n",
    "    'poverty_level',\n",
    "    'year_posted',\n",
    "    'month_posted',\n",
    "    'days_since_posted',\n",
    "    'state_poverty_interaction'\n",
    "]\n",
    "X = pd.get_dummies(data[features], drop_first=True)\n",
    "y = data['not_fully_funded']\n",
    "\n",
    "# Step 3: Train/test split\n",
    "X_train, X_test, y_train, y_test = train_test_split(X, y, test_size=0.2, random_state=42)\n",
    "\n",
    "# Step 4: Train model and predict probabilities\n",
    "rf = RandomForestClassifier(n_estimators=100, random_state=42)\n",
    "rf.fit(X_train, y_train)\n",
    "y_proba = rf.predict_proba(X_test)[:, 1]"
   ]
  },
  {
   "cell_type": "code",
   "execution_count": 3,
   "id": "c1558d74-bf03-4908-b5d2-998fb988a760",
   "metadata": {},
   "outputs": [
    {
     "name": "stdout",
     "output_type": "stream",
     "text": [
      "Precision for top 10%: 0.4628070973612375\n",
      "       score     rank  prediction\n",
      "0   0.000000  80825.0           0\n",
      "1   0.000000  80826.0           0\n",
      "2   0.270000  36610.0           0\n",
      "3   0.080000  60262.0           0\n",
      "4   0.029167  72212.0           0\n",
      "5   0.395000  27039.0           0\n",
      "6   0.310000  32932.0           0\n",
      "7   0.010000  76453.0           0\n",
      "8   0.022500  72914.0           0\n",
      "9   0.020000  73103.0           0\n",
      "10  0.070000  62035.0           0\n",
      "11  0.453667  23634.0           0\n",
      "12  0.760000   6918.0           1\n",
      "13  0.000000  80827.0           0\n",
      "14  0.350000  29756.0           0\n"
     ]
    }
   ],
   "source": [
    "# Step 5: Rank probabilities and calculate precision\n",
    "results_df = pd.DataFrame({'score': y_proba})\n",
    "results_df['rank'] = results_df['score'].rank(method='first', ascending=False)\n",
    "\n",
    "# Label top 10% as 1 and calculate precision\n",
    "top_10_percent_cutoff = int(len(results_df) * 0.1)\n",
    "results_df['prediction'] = (results_df['rank'] <= top_10_percent_cutoff).astype(int)\n",
    "precision = precision_score(y_test, results_df['prediction'])\n",
    "\n",
    "# Output results\n",
    "print(f\"Precision for top 10%: {precision}\")\n",
    "print(results_df.head(15))"
   ]
  }
 ],
 "metadata": {
  "kernelspec": {
   "display_name": "Python 3 (ipykernel)",
   "language": "python",
   "name": "python3"
  },
  "language_info": {
   "codemirror_mode": {
    "name": "ipython",
    "version": 3
   },
   "file_extension": ".py",
   "mimetype": "text/x-python",
   "name": "python",
   "nbconvert_exporter": "python",
   "pygments_lexer": "ipython3",
   "version": "3.12.8"
  }
 },
 "nbformat": 4,
 "nbformat_minor": 5
}
